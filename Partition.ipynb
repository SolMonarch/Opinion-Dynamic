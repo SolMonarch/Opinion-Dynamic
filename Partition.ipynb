{
 "cells": [
  {
   "cell_type": "code",
   "execution_count": 4,
   "metadata": {},
   "outputs": [],
   "source": [
    "import numpy as np\n",
    "from numpy import diag\n",
    "from itertools import chain, repeat\n",
    "from ipyparallel import Client\n",
    "import os\n",
    "import sys\n",
    "import matplotlib as plt\n",
    "import networkx as nx\n",
    "from tqdm import trange\n",
    "from numpy.linalg import norm, inv"
   ]
  },
  {
   "cell_type": "code",
   "execution_count": 5,
   "metadata": {},
   "outputs": [],
   "source": [
    "def adjustNorm(N):\n",
    "    B = np.array(np.random.randint(2, size=(N, N)))\n",
    "    np.fill_diagonal(B, 0)\n",
    "    return B"
   ]
  },
  {
   "cell_type": "code",
   "execution_count": 21,
   "metadata": {},
   "outputs": [
    {
     "name": "stdout",
     "output_type": "stream",
     "text": [
      "[[0 0 0 1 1]\n",
      " [1 0 0 1 1]\n",
      " [0 0 0 0 0]\n",
      " [0 0 0 0 1]\n",
      " [0 0 1 0 0]]\n"
     ]
    }
   ],
   "source": [
    "N = 5\n",
    "B = adjustNorm(N)\n",
    "print(B)"
   ]
  },
  {
   "cell_type": "code",
   "execution_count": 22,
   "metadata": {},
   "outputs": [
    {
     "name": "stdout",
     "output_type": "stream",
     "text": [
      "type(H):  <class 'list'>\n",
      "rest_H:  [1, 0, 1, 2, 3]\n",
      "H:  [1, 0, 1, 2, 3]\n"
     ]
    }
   ],
   "source": [
    "temp_H = np.sum(B, axis=0)\n",
    "H = []\n",
    "for i in temp_H:\n",
    "    H.append(i)\n",
    "rest_H = H\n",
    "print(\"type(H): \", type(H))\n",
    "print(\"rest_H: \", rest_H)\n",
    "print(\"H: \", H)"
   ]
  },
  {
   "cell_type": "code",
   "execution_count": 23,
   "metadata": {},
   "outputs": [
    {
     "name": "stdout",
     "output_type": "stream",
     "text": [
      "3\n",
      "4\n",
      "type(H):  <class 'list'>\n",
      "rest_H:  [1, 0, 1, 2, 3]\n",
      "H:  [1, 0, 1, 2, 3]\n",
      "4\n"
     ]
    }
   ],
   "source": [
    "V_1 = []\n",
    "V = []\n",
    "k = 0\n",
    "E = []\n",
    "max_h = np.max(H)\n",
    "q = np.where(H == np.max(H))[0][0]\n",
    "rest_H = H\n",
    "print(max_h)\n",
    "print(q)\n",
    "print(\"type(H): \", type(H))\n",
    "print(\"rest_H: \", rest_H)\n",
    "print(\"H: \", H)    \n",
    "print(np.where(H == np.max(H))[0][0])"
   ]
  },
  {
   "cell_type": "code",
   "execution_count": 24,
   "metadata": {},
   "outputs": [
    {
     "name": "stdout",
     "output_type": "stream",
     "text": [
      "0\n",
      "1\n",
      "2\n",
      "3\n",
      "4\n",
      "[1, 2, 3, 4, 1, 2, 3, 4, 1, 2, 3, 4, 1, 2, 3, 4, 1, 2, 3, 4, 0, 1, 3]\n"
     ]
    }
   ],
   "source": [
    "for p in range(N):\n",
    "    print(p)\n",
    "    if B[p][q] == 1:\n",
    "        temp_0.append(p)\n",
    "print(temp_0)"
   ]
  },
  {
   "cell_type": "code",
   "execution_count": 28,
   "metadata": {},
   "outputs": [
    {
     "name": "stdout",
     "output_type": "stream",
     "text": [
      "H:  [-1, -1, -1, -1, -1]\n",
      "rest_H:  []\n",
      "V:  [[0, 1, 3, 4], [4, 2]]\n",
      "E:  [[(0, 3), (0, 4), (1, 0), (1, 3), (1, 4), (3, 4)], [(4, 2)]]\n",
      "V_1:  [[4], [2]]\n"
     ]
    }
   ],
   "source": [
    "while(len(rest_H)):\n",
    "    max_h = np.max(H)\n",
    "    q = np.where(H == np.max(H))[0][0]\n",
    "    temp_0 = []\n",
    "    temp_1 = []\n",
    "    temp_E = []\n",
    "    rest = []\n",
    "    for p in range(N):\n",
    "        if B[p][q] == 1:\n",
    "            temp_0.append(p)\n",
    "    if len(temp_0) == 0:\n",
    "        temp_0.append(q)\n",
    "        V.append(temp_0)\n",
    "        E.append([])\n",
    "    else:\n",
    "        temp_0.append(q)\n",
    "        V.append(temp_0)\n",
    "        for i in V[k]:\n",
    "            for j in V[k]:\n",
    "                if B[i][j] == 1:\n",
    "                    temp_E.append((i, j))\n",
    "        E.append(temp_E)\n",
    "    for p in range(N):\n",
    "        if B[q][p] == 1 and p in V[k]:\n",
    "            temp_1.append(p)\n",
    "    temp_1.append(q)\n",
    "    V_1.append(temp_1)\n",
    "\n",
    "    rest = []\n",
    "\n",
    "    for j in range(len(H)):\n",
    "        is_in = 0\n",
    "        for i in range(len(V[k])):\n",
    "            if V[k][i] == j:\n",
    "                is_in = 1\n",
    "                H[j] = -1\n",
    "                break;\n",
    "        if H[j] != -1:\n",
    "            rest.append(H[j])      \n",
    "    rest_H = rest\n",
    "    k = k + 1\n",
    "\n",
    "print(\"H: \", H)\n",
    "print(\"rest_H: \", rest_H)\n",
    "print(\"V: \", V)\n",
    "print(\"E: \", E)\n",
    "print(\"V_1: \", V_1)"
   ]
  },
  {
   "cell_type": "code",
   "execution_count": null,
   "metadata": {},
   "outputs": [],
   "source": []
  }
 ],
 "metadata": {
  "kernelspec": {
   "display_name": "Python 3",
   "language": "python",
   "name": "python3"
  },
  "language_info": {
   "codemirror_mode": {
    "name": "ipython",
    "version": 3
   },
   "file_extension": ".py",
   "mimetype": "text/x-python",
   "name": "python",
   "nbconvert_exporter": "python",
   "pygments_lexer": "ipython3",
   "version": "3.7.3"
  }
 },
 "nbformat": 4,
 "nbformat_minor": 2
}
