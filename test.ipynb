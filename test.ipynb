{
 "cells": [
  {
   "cell_type": "markdown",
   "metadata": {},
   "source": [
    "# TEST\n",
    "    测试相同数据下，加入了新的算法后结果有何变化"
   ]
  },
  {
   "cell_type": "code",
   "execution_count": 426,
   "metadata": {},
   "outputs": [],
   "source": [
    "import numpy as np\n",
    "from numpy import diag\n",
    "from itertools import chain, repeat\n",
    "from ipyparallel import Client\n",
    "import os\n",
    "import sys\n",
    "import matplotlib as plt\n",
    "import networkx as nx\n",
    "from tqdm import trange\n",
    "from numpy.linalg import norm, inv"
   ]
  },
  {
   "cell_type": "markdown",
   "metadata": {},
   "source": [
    "## 通用函数"
   ]
  },
  {
   "cell_type": "code",
   "execution_count": 427,
   "metadata": {},
   "outputs": [],
   "source": [
    "max_rounds = 10000\n",
    "N = 10\n",
    "eps = 1e-4\n",
    "net_num = 10"
   ]
  },
  {
   "cell_type": "code",
   "execution_count": 428,
   "metadata": {},
   "outputs": [],
   "source": [
    "def row_stochastic(A):\n",
    "    return A / A.sum(axis=1, keepdims=True)"
   ]
  },
  {
   "cell_type": "code",
   "execution_count": 429,
   "metadata": {},
   "outputs": [],
   "source": [
    "def adjustNorm(N):\n",
    "    A = np.array(np.random.randint(2, size=(N, N)))\n",
    "    np.fill_diagonal(A, 0)\n",
    "    return A"
   ]
  },
  {
   "cell_type": "code",
   "execution_count": 430,
   "metadata": {},
   "outputs": [],
   "source": [
    "# 生成初始观点\n",
    "def init_opinion(N):\n",
    "    s = np.random.rand(N)\n",
    "    np.set_printoptions(precision=3)\n",
    "    return s"
   ]
  },
  {
   "cell_type": "code",
   "execution_count": 431,
   "metadata": {},
   "outputs": [],
   "source": [
    "def preprocessArgs(s, max_rounds):\n",
    "    N = np.size(s)\n",
    "    max_rounds = int(max_rounds)  # Round 0 contains the initial opinions\n",
    "    z = s.copy()\n",
    "    return N, z, max_rounds"
   ]
  },
  {
   "cell_type": "code",
   "execution_count": 432,
   "metadata": {},
   "outputs": [],
   "source": [
    "def is_concensus(z, eps):\n",
    "    a = True\n",
    "    for i in range(9):\n",
    "        if z[i+1] - z[i] > eps:\n",
    "            a = False\n",
    "            break\n",
    "    return a"
   ]
  },
  {
   "cell_type": "markdown",
   "metadata": {},
   "source": [
    "## self_persistence 与 alpha_global 公用函数"
   ]
  },
  {
   "cell_type": "code",
   "execution_count": 433,
   "metadata": {},
   "outputs": [],
   "source": [
    "def s_weight_matrix(A, N):\n",
    "    W = np.zeros((N, N))\n",
    "    alpha = np.random.rand(N)\n",
    "    deg_p = A.sum(axis=1)\n",
    "    deg_n = A.sum(axis=0)\n",
    "    alpha = (1 + (deg_p -1)/(deg_p + deg_n) - (deg_n -1)/(deg_p + deg_n)) * alpha\n",
    "    for i in range(len(alpha)):\n",
    "        if alpha[i] > 1:\n",
    "            alpha[i] = np.float32(1)\n",
    "    for i in range(len(deg_n)):\n",
    "        if deg_n[i] < 1e-4:\n",
    "            alpha[i] = 1\n",
    "    for i in range(N):\n",
    "        W[i][i] = alpha[i]\n",
    "    # 这里计算出了自我坚持度 alpha\n",
    "    # 下一步应该是计算影响权重矩阵\n",
    "    num = A.sum(axis=1)\n",
    "    for i in range(N):\n",
    "        for j in range(N):\n",
    "            if i != j and A[i][j] == 1:\n",
    "                W[i][j] = (1 - W[i][i]) / num[i]\n",
    "    return W"
   ]
  },
  {
   "cell_type": "markdown",
   "metadata": {},
   "source": [
    "## 统一网络结构及初始观点"
   ]
  },
  {
   "cell_type": "code",
   "execution_count": 434,
   "metadata": {},
   "outputs": [],
   "source": [
    "A = adjustNorm(N) # 生成网络G， A是G的邻接矩阵，表示哪些节点之间存在边\n",
    "s = init_opinion(N) # 初始观点向量 1 * 10"
   ]
  },
  {
   "cell_type": "code",
   "execution_count": 435,
   "metadata": {},
   "outputs": [],
   "source": [
    "W_s = s_weight_matrix(A, N)"
   ]
  },
  {
   "cell_type": "markdown",
   "metadata": {},
   "source": [
    "## DeGroot"
   ]
  },
  {
   "cell_type": "code",
   "execution_count": 436,
   "metadata": {},
   "outputs": [],
   "source": [
    "def base_weight_matrix(A, N):\n",
    "    W = np.zeros((N, N))\n",
    "    np.fill_diagonal(A, 1)\n",
    "    num = A.sum(axis=1)\n",
    "    for i in range(N):\n",
    "        for j in range(N):\n",
    "            if A[i][j] == 1:\n",
    "                W[i][j] = 1 / num[i]\n",
    "    return W"
   ]
  },
  {
   "cell_type": "code",
   "execution_count": 437,
   "metadata": {},
   "outputs": [],
   "source": [
    "def base_op_dy_modle(W, s, max_rounds, eps):\n",
    "    progress = []\n",
    "    dynamic_progress = []\n",
    "    N, z, max_rounds = preprocessArgs(s, max_rounds)\n",
    "    progress.append(z)\n",
    "    opinions = np.zeros((max_rounds, N))\n",
    "    opinions[0, :] = s\n",
    "    \n",
    "    for t in range(max_rounds):\n",
    "        times = t\n",
    "        z = z.dot(W.T)\n",
    "        if t % 1000 == 0:\n",
    "            progress.append(z)\n",
    "        if is_concensus(z, eps):\n",
    "            progress.append(z)\n",
    "            print(\"The opinion has been agreed. \")\n",
    "            return z, progress, times\n",
    "            break\n",
    "        if t == max_rounds - 1:\n",
    "            print(\"Opinions evolved {} times\".format(max_rounds))\n",
    "            return z, progress, times"
   ]
  },
  {
   "cell_type": "code",
   "execution_count": 438,
   "metadata": {},
   "outputs": [
    {
     "name": "stdout",
     "output_type": "stream",
     "text": [
      "============DeGroot===============\n",
      "The opinion has been agreed. \n",
      "[[1 0 0 0 0 1 0 1 0 1]\n",
      " [1 1 1 1 0 0 1 0 0 1]\n",
      " [0 1 1 1 0 0 0 0 1 1]\n",
      " [1 0 1 1 0 1 0 0 1 1]\n",
      " [0 0 0 1 1 0 0 0 0 0]\n",
      " [0 0 1 0 1 1 0 0 1 1]\n",
      " [1 0 0 0 0 0 1 1 0 1]\n",
      " [0 0 1 1 1 0 1 1 0 1]\n",
      " [0 0 0 0 1 0 1 0 1 0]\n",
      " [0 1 1 1 1 0 1 1 1 1]] \n",
      " [[0.25  0.    0.    0.    0.    0.25  0.    0.25  0.    0.25 ]\n",
      " [0.167 0.167 0.167 0.167 0.    0.    0.167 0.    0.    0.167]\n",
      " [0.    0.2   0.2   0.2   0.    0.    0.    0.    0.2   0.2  ]\n",
      " [0.167 0.    0.167 0.167 0.    0.167 0.    0.    0.167 0.167]\n",
      " [0.    0.    0.    0.5   0.5   0.    0.    0.    0.    0.   ]\n",
      " [0.    0.    0.2   0.    0.2   0.2   0.    0.    0.2   0.2  ]\n",
      " [0.25  0.    0.    0.    0.    0.    0.25  0.25  0.    0.25 ]\n",
      " [0.    0.    0.167 0.167 0.167 0.    0.167 0.167 0.    0.167]\n",
      " [0.    0.    0.    0.    0.333 0.    0.333 0.    0.333 0.   ]\n",
      " [0.    0.125 0.125 0.125 0.125 0.    0.125 0.125 0.125 0.125]]\n",
      "initial_opinion:\t [0.641 0.201 0.774 0.47  0.169 0.538 0.819 0.761 0.665 0.387]\n",
      "last_opinion:\t [0.523 0.523 0.523 0.523 0.523 0.523 0.523 0.523 0.523 0.523]\n",
      "progress:\n",
      " [array([0.641, 0.201, 0.774, 0.47 , 0.169, 0.538, 0.819, 0.761, 0.665,\n",
      "       0.387]), array([0.582, 0.549, 0.5  , 0.579, 0.32 , 0.507, 0.652, 0.564, 0.551,\n",
      "       0.531]), array([0.523, 0.523, 0.523, 0.523, 0.523, 0.523, 0.523, 0.523, 0.523,\n",
      "       0.523])] \n",
      "\n",
      "Times:\t 11\n"
     ]
    }
   ],
   "source": [
    "print(\"============DeGroot===============\")\n",
    "W_de = base_weight_matrix(A, N)\n",
    "opinion_de, progress_de, times_de = base_op_dy_modle(W_de, s, max_rounds, eps)\n",
    "print(A, \"\\n\", W_de)\n",
    "print(\"initial_opinion:\\t\", s)\n",
    "print(\"last_opinion:\\t\", opinion_de)\n",
    "print(\"progress:\\n\", progress_de, \"\\n\") \n",
    "print(\"Times:\\t\", times_de)"
   ]
  },
  {
   "cell_type": "markdown",
   "metadata": {},
   "source": [
    "## alpha + global"
   ]
  },
  {
   "cell_type": "code",
   "execution_count": 439,
   "metadata": {},
   "outputs": [],
   "source": [
    "def global_influence(opinion):\n",
    "    g_sum = 0\n",
    "    for i in range(len(opinion)):\n",
    "        g_sum = g_sum + opinion[i]\n",
    "    average = g_sum / (len(opinion) + 1)\n",
    "    return average"
   ]
  },
  {
   "cell_type": "code",
   "execution_count": 440,
   "metadata": {},
   "outputs": [],
   "source": [
    "def a_g_op_dy_modle(W, s, max_rounds, eps):\n",
    "    mu_n = 0.8\n",
    "    mu_g = 0.2\n",
    "    is_agreed = True\n",
    "    progress = []\n",
    "    dynamic_progress = []\n",
    "    N, z, max_rounds = preprocessArgs(s, max_rounds)\n",
    "    progress.append(z)\n",
    "    opinions = np.zeros((max_rounds, N))\n",
    "    opinions[0, :] = s \n",
    "    for t in range(max_rounds):\n",
    "        # 观点开始演化\n",
    "        if t%100 == 0:        \n",
    "            ave_op = global_influence(z)\n",
    "            z = mu_n * z.dot(W.T) + mu_g * ave_op\n",
    "        else:\n",
    "            z = z.dot(W.T)\n",
    "        if t % 1000 == 0:\n",
    "            progress.append(z)\n",
    "        if is_concensus(z, eps):\n",
    "            progress.append(z)\n",
    "            print(\"The opinion has been agreed. \")\n",
    "            return z, progress, is_agreed, t\n",
    "            break\n",
    "        if t == max_rounds - 1:\n",
    "            is_agreed = False\n",
    "            print(\"Opinions evolved {} times\\n\".format(max_rounds))\n",
    "            return z, progress, is_agreed, t"
   ]
  },
  {
   "cell_type": "code",
   "execution_count": 441,
   "metadata": {},
   "outputs": [
    {
     "name": "stdout",
     "output_type": "stream",
     "text": [
      "============alpha&global_100:1===============\n",
      "The opinion has been agreed. \n",
      "[[1 0 0 0 0 1 0 1 0 1]\n",
      " [1 1 1 1 0 0 1 0 0 1]\n",
      " [0 1 1 1 0 0 0 0 1 1]\n",
      " [1 0 1 1 0 1 0 0 1 1]\n",
      " [0 0 0 1 1 0 0 0 0 0]\n",
      " [0 0 1 0 1 1 0 0 1 1]\n",
      " [1 0 0 0 0 0 1 1 0 1]\n",
      " [0 0 1 1 1 0 1 1 0 1]\n",
      " [0 0 0 0 1 0 1 0 1 0]\n",
      " [0 1 1 1 1 0 1 1 1 1]] \n",
      " [[0.821 0.    0.    0.    0.    0.06  0.    0.06  0.    0.06 ]\n",
      " [0.19  0.051 0.19  0.19  0.    0.    0.19  0.    0.    0.19 ]\n",
      " [0.    0.061 0.755 0.061 0.    0.    0.    0.    0.061 0.061]\n",
      " [0.079 0.    0.079 0.604 0.    0.079 0.    0.    0.079 0.079]\n",
      " [0.    0.    0.    0.779 0.221 0.    0.    0.    0.    0.   ]\n",
      " [0.    0.    0.221 0.    0.221 0.115 0.    0.    0.221 0.221]\n",
      " [0.067 0.    0.    0.    0.    0.    0.8   0.067 0.    0.067]\n",
      " [0.    0.    0.128 0.128 0.128 0.    0.128 0.361 0.    0.128]\n",
      " [0.    0.    0.    0.    0.183 0.    0.183 0.    0.634 0.   ]\n",
      " [0.    0.127 0.127 0.127 0.127 0.    0.127 0.127 0.127 0.109]]\n",
      "initial_opinion:\t [0.641 0.201 0.774 0.47  0.169 0.538 0.819 0.761 0.665 0.387]\n",
      "last_opinion:\t [0.596 0.596 0.596 0.596 0.596 0.596 0.596 0.596 0.596 0.596]\n",
      "progress:\n",
      " [array([0.641, 0.201, 0.774, 0.47 , 0.169, 0.538, 0.819, 0.761, 0.665,\n",
      "       0.387]), array([0.6  , 0.576, 0.651, 0.516, 0.421, 0.501, 0.719, 0.586, 0.581,\n",
      "       0.525]), array([0.596, 0.596, 0.596, 0.596, 0.596, 0.596, 0.596, 0.596, 0.596,\n",
      "       0.596])] \n",
      "\n",
      "Times:\t 28\n"
     ]
    }
   ],
   "source": [
    "print(\"============alpha&global_100:1===============\")\n",
    "opinion_a_g, progress_a_g, is_agreed_a_g, times_a_100 = a_g_op_dy_modle(W_s, s, max_rounds, eps)\n",
    "print(A, \"\\n\", W_s)\n",
    "print(\"initial_opinion:\\t\", s)\n",
    "print(\"last_opinion:\\t\", opinion_a_g)\n",
    "if is_agreed_a_g:\n",
    "    print(\"progress:\\n\", progress_a_g, \"\\n\")\n",
    "print(\"Times:\\t\", times_a_100)"
   ]
  },
  {
   "cell_type": "code",
   "execution_count": 442,
   "metadata": {},
   "outputs": [
    {
     "name": "stdout",
     "output_type": "stream",
     "text": [
      "============alpha&global_1:1===============\n",
      "The opinion has been agreed. \n",
      "[[1 0 0 0 0 1 0 1 0 1]\n",
      " [1 1 1 1 0 0 1 0 0 1]\n",
      " [0 1 1 1 0 0 0 0 1 1]\n",
      " [1 0 1 1 0 1 0 0 1 1]\n",
      " [0 0 0 1 1 0 0 0 0 0]\n",
      " [0 0 1 0 1 1 0 0 1 1]\n",
      " [1 0 0 0 0 0 1 1 0 1]\n",
      " [0 0 1 1 1 0 1 1 0 1]\n",
      " [0 0 0 0 1 0 1 0 1 0]\n",
      " [0 1 1 1 1 0 1 1 1 1]] \n",
      " [[0.821 0.    0.    0.    0.    0.06  0.    0.06  0.    0.06 ]\n",
      " [0.19  0.051 0.19  0.19  0.    0.    0.19  0.    0.    0.19 ]\n",
      " [0.    0.061 0.755 0.061 0.    0.    0.    0.    0.061 0.061]\n",
      " [0.079 0.    0.079 0.604 0.    0.079 0.    0.    0.079 0.079]\n",
      " [0.    0.    0.    0.779 0.221 0.    0.    0.    0.    0.   ]\n",
      " [0.    0.    0.221 0.    0.221 0.115 0.    0.    0.221 0.221]\n",
      " [0.067 0.    0.    0.    0.    0.    0.8   0.067 0.    0.067]\n",
      " [0.    0.    0.128 0.128 0.128 0.    0.128 0.361 0.    0.128]\n",
      " [0.    0.    0.    0.    0.183 0.    0.183 0.    0.634 0.   ]\n",
      " [0.    0.127 0.127 0.127 0.127 0.    0.127 0.127 0.127 0.109]]\n",
      "initial_opinion:\t [0.641 0.201 0.774 0.47  0.169 0.538 0.819 0.761 0.665 0.387]\n",
      "last_opinion:\t [0.445 0.445 0.445 0.445 0.445 0.445 0.445 0.445 0.445 0.445]\n",
      "progress:\n",
      " [array([0.641, 0.201, 0.774, 0.47 , 0.169, 0.538, 0.819, 0.761, 0.665,\n",
      "       0.387]), array([0.6  , 0.576, 0.651, 0.516, 0.421, 0.501, 0.719, 0.586, 0.581,\n",
      "       0.525]), array([0.445, 0.445, 0.445, 0.445, 0.445, 0.445, 0.445, 0.445, 0.445,\n",
      "       0.445])] \n",
      "\n",
      "Times:\t 15\n"
     ]
    }
   ],
   "source": [
    "def a_g_op_dy_modle_1(W, s, max_rounds, eps):\n",
    "    mu_n = 0.8\n",
    "    mu_g = 0.2\n",
    "    is_agreed = True\n",
    "    progress = []\n",
    "    dynamic_progress = []\n",
    "    N, z, max_rounds = preprocessArgs(s, max_rounds)\n",
    "    progress.append(z)\n",
    "    opinions = np.zeros((max_rounds, N))\n",
    "    opinions[0, :] = s \n",
    "    for t in range(max_rounds):\n",
    "        # 观点开始演化\n",
    "        ave_op = global_influence(z)\n",
    "        z = mu_n * z.dot(W.T) + mu_g * ave_op\n",
    "        if t % 1000 == 0:\n",
    "            progress.append(z)\n",
    "        if is_concensus(z, eps):\n",
    "            progress.append(z)\n",
    "            print(\"The opinion has been agreed. \")\n",
    "            return z, progress, is_agreed, t\n",
    "            break\n",
    "        if t == max_rounds - 1:\n",
    "            is_agreed = False\n",
    "            print(\"Opinions evolved {} times\\n\".format(max_rounds))\n",
    "            return z, progress, is_agreed, t\n",
    "        \n",
    "print(\"============alpha&global_1:1===============\")\n",
    "opinion_a_g_1, progress_a_g_1, is_agreed_a_g_1, times_a_1 = a_g_op_dy_modle_1(W_s, s, max_rounds, eps)\n",
    "print(A, \"\\n\", W_s)\n",
    "print(\"initial_opinion:\\t\", s)\n",
    "print(\"last_opinion:\\t\", opinion_a_g_1)\n",
    "if is_agreed_a_g_1:\n",
    "    print(\"progress:\\n\", progress_a_g_1, \"\\n\")\n",
    "print(\"Times:\\t\", times_a_1)"
   ]
  },
  {
   "cell_type": "markdown",
   "metadata": {},
   "source": [
    "## self_perisinstance "
   ]
  },
  {
   "cell_type": "code",
   "execution_count": 443,
   "metadata": {},
   "outputs": [],
   "source": [
    "def s_op_dy_modle(W, s, max_rounds, eps):\n",
    "    is_agreed = True\n",
    "    progress = []\n",
    "    dynamic_progress = []\n",
    "    N, z, max_rounds = preprocessArgs(s, max_rounds)\n",
    "    progress.append(z)\n",
    "    opinions = np.zeros((max_rounds, N))\n",
    "    opinions[0, :] = s\n",
    "    \n",
    "    for t in range(max_rounds):\n",
    "        z = z.dot(W.T)\n",
    "        if t % 1000 == 0:\n",
    "            progress.append(z)\n",
    "        if is_concensus(z, eps):\n",
    "            progress.append(z)\n",
    "            print(\"The opinion has been agreed. \")\n",
    "            return z, progress, is_agreed, t\n",
    "            break\n",
    "        if t == max_rounds - 1:\n",
    "            is_agreed = False\n",
    "            print(\"Opinions evolved {} times\\n\".format(max_rounds))\n",
    "            return z, progress, is_agreed, t"
   ]
  },
  {
   "cell_type": "code",
   "execution_count": 444,
   "metadata": {},
   "outputs": [
    {
     "name": "stdout",
     "output_type": "stream",
     "text": [
      "============self-persistence===============\n",
      "The opinion has been agreed. \n",
      "[[1 0 0 0 0 1 0 1 0 1]\n",
      " [1 1 1 1 0 0 1 0 0 1]\n",
      " [0 1 1 1 0 0 0 0 1 1]\n",
      " [1 0 1 1 0 1 0 0 1 1]\n",
      " [0 0 0 1 1 0 0 0 0 0]\n",
      " [0 0 1 0 1 1 0 0 1 1]\n",
      " [1 0 0 0 0 0 1 1 0 1]\n",
      " [0 0 1 1 1 0 1 1 0 1]\n",
      " [0 0 0 0 1 0 1 0 1 0]\n",
      " [0 1 1 1 1 0 1 1 1 1]]\n",
      "[[0.821 0.    0.    0.    0.    0.06  0.    0.06  0.    0.06 ]\n",
      " [0.19  0.051 0.19  0.19  0.    0.    0.19  0.    0.    0.19 ]\n",
      " [0.    0.061 0.755 0.061 0.    0.    0.    0.    0.061 0.061]\n",
      " [0.079 0.    0.079 0.604 0.    0.079 0.    0.    0.079 0.079]\n",
      " [0.    0.    0.    0.779 0.221 0.    0.    0.    0.    0.   ]\n",
      " [0.    0.    0.221 0.    0.221 0.115 0.    0.    0.221 0.221]\n",
      " [0.067 0.    0.    0.    0.    0.    0.8   0.067 0.    0.067]\n",
      " [0.    0.    0.128 0.128 0.128 0.    0.128 0.361 0.    0.128]\n",
      " [0.    0.    0.    0.    0.183 0.    0.183 0.    0.634 0.   ]\n",
      " [0.    0.127 0.127 0.127 0.127 0.    0.127 0.127 0.127 0.109]]\n",
      "initial_opinion:\t [0.641 0.201 0.774 0.47  0.169 0.538 0.819 0.761 0.665 0.387]\n",
      "last_opinion:\t [0.621 0.621 0.622 0.621 0.621 0.622 0.622 0.622 0.622 0.622]\n",
      "progress:\n",
      " [array([0.641, 0.201, 0.774, 0.47 , 0.169, 0.538, 0.819, 0.761, 0.665,\n",
      "       0.387]), array([0.627, 0.597, 0.69 , 0.522, 0.404, 0.503, 0.775, 0.61 , 0.602,\n",
      "       0.533]), array([0.621, 0.621, 0.622, 0.621, 0.621, 0.622, 0.622, 0.622, 0.622,\n",
      "       0.622])] \n",
      "\n",
      "Times:\t 29\n"
     ]
    }
   ],
   "source": [
    "print(\"============self-persistence===============\")\n",
    "opinion_s, progress_s, is_agreed_s, times_s = s_op_dy_modle(W_s, s, max_rounds, eps)\n",
    "print(A)\n",
    "print(W_s)\n",
    "print(\"initial_opinion:\\t\", s)\n",
    "print(\"last_opinion:\\t\", opinion_s)\n",
    "if is_agreed_s:\n",
    "    print(\"progress:\\n\", progress_s, \"\\n\")  \n",
    "print(\"Times:\\t\", times_s)"
   ]
  },
  {
   "cell_type": "code",
   "execution_count": null,
   "metadata": {},
   "outputs": [],
   "source": []
  }
 ],
 "metadata": {
  "kernelspec": {
   "display_name": "Python 3",
   "language": "python",
   "name": "python3"
  },
  "language_info": {
   "codemirror_mode": {
    "name": "ipython",
    "version": 3
   },
   "file_extension": ".py",
   "mimetype": "text/x-python",
   "name": "python",
   "nbconvert_exporter": "python",
   "pygments_lexer": "ipython3",
   "version": "3.7.3"
  }
 },
 "nbformat": 4,
 "nbformat_minor": 2
}
