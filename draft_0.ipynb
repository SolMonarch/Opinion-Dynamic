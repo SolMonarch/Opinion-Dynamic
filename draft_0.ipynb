{
 "cells": [
  {
   "cell_type": "code",
   "execution_count": 3,
   "metadata": {},
   "outputs": [],
   "source": [
    "import numpy as np\n",
    "from numpy import diag\n",
    "from itertools import chain, repeat\n",
    "from ipyparallel import Client\n",
    "import os\n",
    "import sys\n",
    "import matplotlib as plt\n",
    "import networkx as nx\n",
    "from tqdm import trange\n",
    "from numpy.linalg import norm, inv\n",
    "\n",
    "max_rounds = 100000\n",
    "N = 10\n",
    "eps = 1e-6"
   ]
  },
  {
   "cell_type": "code",
   "execution_count": null,
   "metadata": {},
   "outputs": [],
   "source": [
    "z = [1, 1, 1, 1, 1, 1, 1, 1, 1, 0]\n",
    "a = 1\n",
    "for i in range(9):\n",
    "    if z[i] != z[i+1]:\n",
    "        a = 0\n",
    "        break\n",
    "print(a)"
   ]
  },
  {
   "cell_type": "code",
   "execution_count": null,
   "metadata": {},
   "outputs": [],
   "source": [
    "s = np.random.rand(N)\n",
    "np.set_printoptions(precision=3)\n",
    "print(s)"
   ]
  },
  {
   "cell_type": "code",
   "execution_count": null,
   "metadata": {},
   "outputs": [],
   "source": [
    "s = np.random.rand(N)\n",
    "np.set_printoptions(precision=3)\n",
    "print(s)"
   ]
  },
  {
   "cell_type": "code",
   "execution_count": null,
   "metadata": {},
   "outputs": [],
   "source": [
    "# def init_opinion(A, N):\n",
    "#     np.fill_diagonal(A, 1)\n",
    "#     s = np.zeros([N, N])   \n",
    "#     rowSum = A.sum(axis=1) \n",
    "#     for i in range(len(rowSum)):\n",
    "#         a = np.random.rand(rowSum[i])\n",
    "#         b = a / sum(a)\n",
    "#         num = 0\n",
    "#         for j in range(N):\n",
    "#             if A[i][j] == 1:\n",
    "#                 s[i][j] = b[num]\n",
    "#                 num += 1\n",
    "#     return s"
   ]
  },
  {
   "cell_type": "code",
   "execution_count": null,
   "metadata": {},
   "outputs": [],
   "source": [
    "s = np.zeros(10)\n",
    "a = np.random.rand(10)\n",
    "np.around(a, 3)\n",
    "print(type(a))\n",
    "print(type(s))\n",
    "aSum = sum(a)\n",
    "np.around(aSum, 3)\n",
    "for i in range(10):\n",
    "    b = a[i] / aSum\n",
    "    s[i] = b\n",
    "print(sum(s))\n",
    "print(s)"
   ]
  },
  {
   "cell_type": "code",
   "execution_count": null,
   "metadata": {},
   "outputs": [],
   "source": [
    "def adjustNorm(N):\n",
    "    A = np.array(np.random.randint(2, size=(N, N)))\n",
    "    np.fill_diagonal(A, 0)\n",
    "    return A"
   ]
  },
  {
   "cell_type": "code",
   "execution_count": null,
   "metadata": {},
   "outputs": [],
   "source": [
    "A = adjustNorm(N)\n",
    "rowSum = A.sum(axis=1)\n",
    "for i in range(len(rowSum)):\n",
    "    a = np.random.rand(rowSum[i])\n",
    "    b = a/sum(a)*1\n",
    "print(A)\n",
    "print(type(b))\n",
    "print(b)\n",
    "print(b.sum())"
   ]
  },
  {
   "cell_type": "code",
   "execution_count": null,
   "metadata": {},
   "outputs": [],
   "source": [
    "A = adjustNorm(10)\n",
    "np.fill_diagonal(A, 1)\n",
    "s = np.zeros([N, N])\n",
    "rowSum = A.sum(axis=1) \n",
    "for i in range(len(rowSum)):\n",
    "    a = np.random.rand(rowSum[i])\n",
    "    b = a / sum(a)\n",
    "    num = 0\n",
    "    for j in range(N):\n",
    "        if A[i][j] == 1:\n",
    "            s[i][j] = b[num]\n",
    "            num += 1\n",
    "print(a)\n",
    "print(b)\n",
    "print(s.sum())"
   ]
  },
  {
   "cell_type": "code",
   "execution_count": null,
   "metadata": {},
   "outputs": [],
   "source": [
    "# def row_stocNorm(A, multiplier):\n",
    "#     np.fill_diagonal(A, 0)\n",
    "#     rowSums = np.sum(A, 0)\n",
    "#     A = A + (diag(rowSums) * multiplier)\n",
    "    \n",
    "#     s = np.zeros([N, N])   \n",
    "#     rowSum = A.sum(axis=1) \n",
    "#     for i in range(len(rowSum)):\n",
    "#         a = np.random.rand(rowSum[i])\n",
    "#         b = a / sum(a)\n",
    "#         num = 0\n",
    "#         for j in range(N):\n",
    "#             if A[i][j] == 1:\n",
    "#                 s[i][j] = b[num]\n",
    "#                 num += 1\n",
    "#     return row_stochastic(A)"
   ]
  },
  {
   "cell_type": "code",
   "execution_count": 4,
   "metadata": {},
   "outputs": [
    {
     "name": "stdout",
     "output_type": "stream",
     "text": [
      "[[0. 0. 0. 0. 0. 0. 0. 0. 0.]\n",
      " [0. 0. 0. 0. 0. 0. 0. 0. 0.]\n",
      " [0. 0. 0. 0. 0. 0. 0. 0. 0.]\n",
      " [0. 0. 0. 0. 0. 0. 0. 0. 0.]\n",
      " [0. 0. 0. 0. 0. 0. 0. 0. 0.]\n",
      " [0. 0. 0. 0. 0. 0. 0. 0. 0.]\n",
      " [0. 0. 0. 0. 0. 0. 0. 0. 0.]\n",
      " [0. 0. 0. 0. 0. 0. 0. 0. 0.]\n",
      " [0. 0. 0. 0. 0. 0. 0. 0. 0.]]\n"
     ]
    }
   ],
   "source": [
    "import numpy as np\n",
    "N = 9\n",
    "Leader = np.zeros((N,N))\n",
    "print(Leader)"
   ]
  },
  {
   "cell_type": "code",
   "execution_count": 5,
   "metadata": {},
   "outputs": [],
   "source": [
    "def adjustNorm(N):\n",
    "    A = np.array(np.random.randint(2, size=(N, N)))\n",
    "    np.fill_diagonal(A, 0)\n",
    "    return A"
   ]
  },
  {
   "cell_type": "code",
   "execution_count": 1,
   "metadata": {},
   "outputs": [],
   "source": [
    "import networkx as nx\n",
    "import numpy as np\n",
    "from numpy import diag\n",
    "from itertools import chain, repeat\n",
    "from ipyparallel import Client\n",
    "import os\n",
    "import sys\n",
    "import matplotlib as plt\n",
    "import networkx as nx\n",
    "from tqdm import trange\n",
    "from numpy.linalg import norm, inv\n",
    "B = [\n",
    "    [0, 1, 0, 0, 0, 0, 0, 0, 0],\n",
    "    [1, 0, 1, 0, 0, 0, 0, 0, 0],\n",
    "    [0, 0, 0, 0, 1, 1, 0, 0, 0],\n",
    "    [0, 0, 0, 0, 0, 1, 0, 0, 0],\n",
    "    [0, 0, 1, 0, 0, 1, 0, 0, 0],\n",
    "    [0, 0, 1, 0, 1, 0, 0, 0, 0],\n",
    "    [0, 0, 0, 0, 1, 0, 0, 0, 0],\n",
    "    [0, 0, 0, 0, 0, 0, 1, 0, 0],\n",
    "    [0, 0, 0, 0, 0, 1, 0, 0, 0]\n",
    "]\n",
    "\n",
    "\n"
   ]
  },
  {
   "cell_type": "code",
   "execution_count": 2,
   "metadata": {},
   "outputs": [
    {
     "name": "stdout",
     "output_type": "stream",
     "text": [
      "type(H):  <class 'list'>\n",
      "rest_H:  [1, 1, 3, 0, 3, 4, 1, 0, 0]\n",
      "H:  [1, 1, 3, 0, 3, 4, 1, 0, 0]\n"
     ]
    }
   ],
   "source": [
    "temp_H = np.sum(B, axis=0)\n",
    "H = []\n",
    "for i in temp_H:\n",
    "    H.append(i)\n",
    "rest_H = H\n",
    "print(\"type(H): \", type(H))\n",
    "print(\"rest_H: \", rest_H)\n",
    "print(\"H: \", H)"
   ]
  },
  {
   "cell_type": "code",
   "execution_count": 3,
   "metadata": {},
   "outputs": [
    {
     "name": "stdout",
     "output_type": "stream",
     "text": [
      "4\n",
      "5\n",
      "type(H):  <class 'list'>\n",
      "rest_H:  [1, 1, 3, 0, 3, 4, 1, 0, 0]\n",
      "H:  [1, 1, 3, 0, 3, 4, 1, 0, 0]\n"
     ]
    }
   ],
   "source": [
    "N = 9\n",
    "V_1 = []\n",
    "V = []\n",
    "k = 0\n",
    "E = []\n",
    "max_h = np.max(H)\n",
    "q = np.where(H == np.max(H))[0][0]\n",
    "rest_H = H\n",
    "print(max_h)\n",
    "print(q)\n",
    "print(\"type(H): \", type(H))\n",
    "print(\"rest_H: \", rest_H)\n",
    "print(\"H: \", H)"
   ]
  },
  {
   "cell_type": "code",
   "execution_count": 138,
   "metadata": {},
   "outputs": [
    {
     "name": "stdout",
     "output_type": "stream",
     "text": [
      "H:  [-1, -1, -1, -1, -1, -1, -1, -1, -1]\n",
      "rest_H:  []\n",
      "V:  [[2, 3, 4, 8, 5], [1, 0], [7, 6]]\n",
      "E:  [[(2, 4), (2, 5), (3, 5), (4, 2), (4, 5), (8, 5), (5, 2), (5, 4)], [(1, 0), (0, 1)], [(7, 6)]]\n",
      "V_1:  [[2, 4, 5], [1, 0], [6]]\n"
     ]
    }
   ],
   "source": [
    "\n",
    "max_h = np.max(H)\n",
    "q = np.where(H == np.max(H))[0][0]\n",
    "temp_0 = []\n",
    "temp_1 = []\n",
    "temp_E = []\n",
    "rest = []\n",
    "for p in range(N):\n",
    "    if B[p][q] == 1:\n",
    "        temp_0.append(p)\n",
    "if len(temp_0) == 0:\n",
    "    temp_0.append(q)\n",
    "    V.append(temp_0)\n",
    "    E.append([])\n",
    "else:\n",
    "    temp_0.append(q)\n",
    "    V.append(temp_0)\n",
    "    for i in V[k]:\n",
    "        for j in V[k]:\n",
    "            if B[i][j] == 1:\n",
    "                temp_E.append((i, j))\n",
    "    E.append(temp_E)\n",
    "for p in range(N):\n",
    "    if B[q][p] == 1 and p in V[k]:\n",
    "        temp_1.append(p)\n",
    "temp_1.append(q)\n",
    "for p in range(N):\n",
    "    for q in range(len(temp_1)):\n",
    "        if B[p][q] == 1 and p not in temp_0:\n",
    "            temp_0.append(q)\n",
    "V_1.append(temp_1)\n",
    "\n",
    "rest = []\n",
    "\n",
    "for j in range(len(H)):\n",
    "    is_in = 0\n",
    "    for i in range(len(V[k])):\n",
    "        if V[k][i] == j:\n",
    "            is_in = 1\n",
    "            H[j] = -1\n",
    "            break;\n",
    "    if H[j] != -1:\n",
    "        rest.append(H[j])      \n",
    "rest_H = rest\n",
    "k = k + 1\n",
    "\n",
    "print(\"H: \", H)\n",
    "print(\"rest_H: \", rest_H)\n",
    "print(\"V: \", V)\n",
    "print(\"E: \", E)\n",
    "print(\"V_1: \", V_1)"
   ]
  },
  {
   "cell_type": "code",
   "execution_count": 4,
   "metadata": {},
   "outputs": [
    {
     "name": "stdout",
     "output_type": "stream",
     "text": [
      "4\n",
      "5\n"
     ]
    }
   ],
   "source": [
    "max_h = np.max(H)\n",
    "q = np.where(H == np.max(H))[0][0]\n",
    "print(max_h)\n",
    "print(q)"
   ]
  },
  {
   "cell_type": "code",
   "execution_count": 5,
   "metadata": {},
   "outputs": [
    {
     "name": "stdout",
     "output_type": "stream",
     "text": [
      "[2, 3, 4, 8]\n",
      "5\n",
      "[]\n",
      "V []\n"
     ]
    }
   ],
   "source": [
    "k = k + 1\n",
    "temp_0 = []\n",
    "temp_1 = []\n",
    "temp_E = []\n",
    "rest = []\n",
    "\n",
    "for p in range(N):\n",
    "    if B[p][q] == 1:\n",
    "        temp_0.append(p)\n",
    "print(temp_0)\n",
    "print(q)\n",
    "print(rest)\n",
    "print(\"V\", V)"
   ]
  },
  {
   "cell_type": "code",
   "execution_count": 113,
   "metadata": {},
   "outputs": [
    {
     "name": "stdout",
     "output_type": "stream",
     "text": [
      "1\n",
      "V:  [[2, 3, 4, 8, 5], [1, 0]]\n",
      "E:  [[(2, 4), (2, 5), (3, 5), (4, 2), (4, 5), (8, 5), (5, 2), (5, 4)], [(1, 0), (0, 1)]]\n",
      "[]\n"
     ]
    }
   ],
   "source": [
    "if len(temp_0) == 0:\n",
    "    temp_0.append(q)\n",
    "    V.append(temp_0)\n",
    "    E.append([])\n",
    "else:\n",
    "    temp_0.append(q)\n",
    "    V.append(temp_0)\n",
    "    for i in V[k]:\n",
    "        for j in V[k]:\n",
    "            if B[i][j] == 1:\n",
    "                temp_E.append((i, j))\n",
    "    E.append(temp_E)\n",
    "print(k)\n",
    "print(\"V: \", V)\n",
    "print(\"E: \", E)\n",
    "print(rest)"
   ]
  },
  {
   "cell_type": "code",
   "execution_count": 114,
   "metadata": {},
   "outputs": [
    {
     "name": "stdout",
     "output_type": "stream",
     "text": [
      "temp_1 [1, 0]\n",
      "V_1 [[2, 4, 5], [1, 0]]\n",
      "rest []\n"
     ]
    }
   ],
   "source": [
    "for p in range(N):\n",
    "    if B[q][p] == 1:\n",
    "        temp_1.append(p)\n",
    "temp_1.append(q)\n",
    "V_1.append(temp_1)\n",
    "\n",
    "for \n",
    "print('temp_1', temp_1)\n",
    "print('V_1', V_1)\n",
    "print('rest', rest)"
   ]
  },
  {
   "cell_type": "code",
   "execution_count": 115,
   "metadata": {},
   "outputs": [
    {
     "name": "stdout",
     "output_type": "stream",
     "text": [
      "2\n",
      "9\n"
     ]
    }
   ],
   "source": [
    "print(len(V[k]))\n",
    "print(len(H))"
   ]
  },
  {
   "cell_type": "code",
   "execution_count": 116,
   "metadata": {},
   "outputs": [
    {
     "name": "stdout",
     "output_type": "stream",
     "text": [
      "H:  [-1, -1, -1, -1, -1, -1, 1, 0, -1]\n",
      "rest:  [1, 0]\n",
      "V:  [[2, 3, 4, 8, 5], [1, 0]]\n",
      "E:  [[(2, 4), (2, 5), (3, 5), (4, 2), (4, 5), (8, 5), (5, 2), (5, 4)], [(1, 0), (0, 1)]]\n"
     ]
    }
   ],
   "source": [
    "for j in range(len(H)):\n",
    "    is_in = 0\n",
    "    for i in range(len(V[k])):\n",
    "        if V[k][i] == j:\n",
    "            is_in = 1\n",
    "            H[j] = -1\n",
    "            break;\n",
    "    if H[j] != -1:\n",
    "        rest.append(H[j])  \n",
    "\n",
    "print(\"H: \", H)\n",
    "print(\"rest: \", rest)\n",
    "print(\"V: \", V)\n",
    "print(\"E: \", E)"
   ]
  },
  {
   "cell_type": "code",
   "execution_count": 117,
   "metadata": {},
   "outputs": [
    {
     "name": "stdout",
     "output_type": "stream",
     "text": [
      "2\n",
      "1\n"
     ]
    }
   ],
   "source": [
    "i = 2\n",
    "while(i):\n",
    "    print(i)\n",
    "    i = i -1"
   ]
  },
  {
   "cell_type": "code",
   "execution_count": null,
   "metadata": {},
   "outputs": [],
   "source": [
    "temp_0 = []\n",
    "temp_1 = []\n",
    "V = []\n",
    "\n",
    "for k in range(len(candidate_1)):\n",
    "    temp = []\n",
    "    temp = candidate_1[k]\n",
    "    for i in range(len(temp)):\n",
    "        for j in range(len(candidate_0)):\n",
    "            if B[candidate_0[j]][temp[i]] == 1 and candidate_0[j] not in temp_0:\n",
    "                temp_0.append(candidate_0[j])\n",
    "                temp.append(candidate_0[j])\n",
    "    V.append(temp)\n"
   ]
  }
 ],
 "metadata": {
  "kernelspec": {
   "display_name": "Python 3",
   "language": "python",
   "name": "python3"
  },
  "language_info": {
   "codemirror_mode": {
    "name": "ipython",
    "version": 3
   },
   "file_extension": ".py",
   "mimetype": "text/x-python",
   "name": "python",
   "nbconvert_exporter": "python",
   "pygments_lexer": "ipython3",
   "version": "3.8.3"
  }
 },
 "nbformat": 4,
 "nbformat_minor": 4
}
