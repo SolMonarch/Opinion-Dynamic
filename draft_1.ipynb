{
 "cells": [
  {
   "cell_type": "code",
   "execution_count": 2,
   "metadata": {},
   "outputs": [],
   "source": [
    "import numpy as np\n",
    "from numpy import diag\n",
    "from itertools import chain, repeat\n",
    "from ipyparallel import Client\n",
    "import os\n",
    "import sys\n",
    "import matplotlib as plt\n",
    "import networkx as nx\n",
    "from tqdm import trange\n",
    "from numpy.linalg import norm, inv"
   ]
  },
  {
   "cell_type": "code",
   "execution_count": 3,
   "metadata": {},
   "outputs": [],
   "source": [
    "B = [\n",
    "    [0, 1, 0, 0, 0, 0, 0, 0, 0],\n",
    "    [1, 0, 1, 0, 0, 0, 0, 0, 0],\n",
    "    [0, 0, 0, 0, 1, 1, 0, 0, 0],\n",
    "    [0, 0, 0, 0, 0, 1, 0, 0, 0],\n",
    "    [0, 0, 1, 0, 0, 1, 0, 0, 0],\n",
    "    [0, 0, 1, 0, 1, 0, 0, 0, 0],\n",
    "    [0, 0, 0, 0, 1, 0, 0, 0, 0],\n",
    "    [0, 0, 0, 0, 0, 0, 1, 0, 0],\n",
    "    [0, 0, 0, 0, 0, 1, 0, 0, 0]\n",
    "]"
   ]
  },
  {
   "cell_type": "code",
   "execution_count": 26,
   "metadata": {},
   "outputs": [
    {
     "ename": "IndexError",
     "evalue": "list index out of range",
     "output_type": "error",
     "traceback": [
      "\u001b[0;31m---------------------------------------------------------------------------\u001b[0m",
      "\u001b[0;31mIndexError\u001b[0m                                Traceback (most recent call last)",
      "\u001b[0;32m<ipython-input-26-279e9a898a27>\u001b[0m in \u001b[0;36m<module>\u001b[0;34m\u001b[0m\n\u001b[1;32m     13\u001b[0m             \u001b[0mis_f\u001b[0m \u001b[0;34m=\u001b[0m \u001b[0;36m0\u001b[0m\u001b[0;34m\u001b[0m\u001b[0;34m\u001b[0m\u001b[0m\n\u001b[1;32m     14\u001b[0m     \u001b[0;32mif\u001b[0m \u001b[0mis_f\u001b[0m \u001b[0;34m==\u001b[0m \u001b[0;36m1\u001b[0m\u001b[0;34m:\u001b[0m\u001b[0;34m\u001b[0m\u001b[0;34m\u001b[0m\u001b[0m\n\u001b[0;32m---> 15\u001b[0;31m         \u001b[0mV_0\u001b[0m\u001b[0;34m.\u001b[0m\u001b[0mappend\u001b[0m\u001b[0;34m(\u001b[0m\u001b[0mV\u001b[0m\u001b[0;34m[\u001b[0m\u001b[0ms\u001b[0m\u001b[0;34m]\u001b[0m\u001b[0;34m)\u001b[0m\u001b[0;34m\u001b[0m\u001b[0;34m\u001b[0m\u001b[0m\n\u001b[0m\u001b[1;32m     16\u001b[0m     \u001b[0;32mfor\u001b[0m \u001b[0mi\u001b[0m \u001b[0;32min\u001b[0m \u001b[0mrange\u001b[0m\u001b[0;34m(\u001b[0m\u001b[0mlen\u001b[0m\u001b[0;34m(\u001b[0m\u001b[0mV\u001b[0m\u001b[0;34m)\u001b[0m\u001b[0;34m)\u001b[0m\u001b[0;34m:\u001b[0m\u001b[0;34m\u001b[0m\u001b[0;34m\u001b[0m\u001b[0m\n\u001b[1;32m     17\u001b[0m         \u001b[0;32mif\u001b[0m \u001b[0mV\u001b[0m\u001b[0;34m[\u001b[0m\u001b[0mi\u001b[0m\u001b[0;34m]\u001b[0m \u001b[0;32mnot\u001b[0m \u001b[0;32min\u001b[0m \u001b[0mV_0\u001b[0m\u001b[0;34m:\u001b[0m\u001b[0;34m\u001b[0m\u001b[0;34m\u001b[0m\u001b[0m\n",
      "\u001b[0;31mIndexError\u001b[0m: list index out of range"
     ]
    }
   ],
   "source": [
    "max_h = np.max(H)\n",
    "q = np.where(H == np.max(H))[0][0]\n",
    "temp_0 = []\n",
    "temp_1 = []\n",
    "temp_E = []\n",
    "rest = []\n",
    "for p in range(N):\n",
    "    if B[p][q] == 1:\n",
    "        temp_0.append(p)\n",
    "if len(temp_0) == 0:\n",
    "    temp_0.append(q)\n",
    "    V.append(temp_0)\n",
    "    E.append([])\n",
    "else:\n",
    "    temp_0.append(q)\n",
    "    V.append(temp_0)\n",
    "    for i in V[k]:\n",
    "        for j in V[k]:\n",
    "            if B[i][j] == 1:\n",
    "                temp_E.append((i, j))\n",
    "    E.append(temp_E)\n",
    "for p in range(N):\n",
    "    if B[q][p] == 1 and p in V[k]:\n",
    "        temp_1.append(p)\n",
    "temp_1.append(q)\n",
    "V_1.append(temp_1)\n",
    "\n",
    "rest = []\n",
    "\n",
    "for j in range(len(H)):\n",
    "    is_in = 0\n",
    "    for i in range(len(V[k])):\n",
    "        if V[k][i] == j:\n",
    "            is_in = 1\n",
    "            H[j] = -1\n",
    "            break;\n",
    "    if H[j] != -1:\n",
    "        rest.append(H[j])      \n",
    "rest_H = rest\n",
    "k = k + 1"
   ]
  },
  {
   "cell_type": "code",
   "execution_count": 1,
   "metadata": {},
   "outputs": [],
   "source": []
  },
  {
   "cell_type": "code",
   "execution_count": 3,
   "metadata": {},
   "outputs": [
    {
     "name": "stdout",
     "output_type": "stream",
     "text": [
      "[1, 1, 3, 0, 3, 4, 1, 0, 0]\n",
      "[1, 1, 3, 0, 3, 4, 1, 0, 0]\n",
      "4\n",
      "5\n"
     ]
    }
   ],
   "source": [
    "temp_0 = []\n",
    "temp_1 = []\n",
    "for i in range(N):\n",
    "    for j in range(N):\n",
    "        if B[i][j] == 0:\n",
    "            temp_0.append(i)\n",
    "judge = 1\n",
    "while(judge):\n",
    "    is_0 = \n",
    "    for i in range(N):\n",
    "        for j in range(len(temp_0)):\n",
    "            if B[i][] == \n"
   ]
  },
  {
   "cell_type": "code",
   "execution_count": 2,
   "metadata": {},
   "outputs": [],
   "source": [
    "import numpy as np\n",
    "from numpy import diag\n",
    "from itertools import chain, repeat\n",
    "from ipyparallel import Client\n",
    "import os\n",
    "import sys\n",
    "import matplotlib as plt\n",
    "import networkx as nx\n",
    "from tqdm import trange\n",
    "from numpy.linalg import norm, inv\n",
    "import networkx as nx"
   ]
  },
  {
   "cell_type": "code",
   "execution_count": 94,
   "metadata": {},
   "outputs": [],
   "source": [
    "G = nx.DiGraph()"
   ]
  },
  {
   "cell_type": "code",
   "execution_count": 95,
   "metadata": {},
   "outputs": [],
   "source": [
    "G.add_node(11)"
   ]
  },
  {
   "cell_type": "code",
   "execution_count": 96,
   "metadata": {},
   "outputs": [],
   "source": [
    "G.add_edges_from([(0,1),(1,0),(1,2),(2,4),(2,5),(3,5),(4,2),\n",
    "                  (4,5),(5,4),(5,2),(6,4),(7,6),(8,5),(9,3),(10,1),(11,10)])\n"
   ]
  },
  {
   "cell_type": "code",
   "execution_count": 97,
   "metadata": {},
   "outputs": [
    {
     "name": "stdout",
     "output_type": "stream",
     "text": [
      "[11, 0, 1, 2, 4, 5, 3, 6, 7, 8, 9, 10]\n"
     ]
    }
   ],
   "source": [
    "print(list(G.nodes))"
   ]
  },
  {
   "cell_type": "code",
   "execution_count": 98,
   "metadata": {},
   "outputs": [
    {
     "name": "stdout",
     "output_type": "stream",
     "text": [
      "[(11, 10), (0, 1), (1, 0), (1, 2), (2, 4), (2, 5), (4, 2), (4, 5), (5, 4), (5, 2), (3, 5), (6, 4), (7, 6), (8, 5), (9, 3), (10, 1)]\n"
     ]
    }
   ],
   "source": [
    "print(list(G.edges))"
   ]
  },
  {
   "cell_type": "code",
   "execution_count": 99,
   "metadata": {},
   "outputs": [
    {
     "name": "stdout",
     "output_type": "stream",
     "text": [
      "<class 'set'>\n",
      "[{2, 4, 5} {0, 1} {10} {11} {3} {6} {7} {8} {9}]\n",
      "[2, 4, 5, 0, 1]\n",
      "[]\n",
      "candidate_0 [10, 11, 3, 6, 7, 8, 9]\n",
      "candidate_1 [[2, 4, 5], [0, 1]]\n"
     ]
    }
   ],
   "source": [
    "candidate_0 = []\n",
    "candidate_1 = []\n",
    "con = nx.strongly_connected_components(G)\n",
    "num = 1\n",
    "c = list(con)\n",
    "c = np.array(c)\n",
    "\n",
    "print(type(c[0]))\n",
    "print(c)\n",
    "for i in range(len(c)):\n",
    "    if len(c[i]) == 1:\n",
    "        candidate_0.append(list(c[i]))\n",
    "    else:\n",
    "        candidate_1.append(list(c[i ]))\n",
    "V_0 = []\n",
    "V_1 = []\n",
    "temp_0 = []\n",
    "temp_1 = []\n",
    "for i in range(len(candidate_1)):\n",
    "    for j in range(len(candidate_1[i])):\n",
    "        V_1.append(candidate_1[i][j])\n",
    "for i in range(len(candidate_0)):\n",
    "    for j in range(len(candidate_0[i])):\n",
    "        V_0.append(candidate_0[i][j]) \n",
    "print(V_1)\n",
    "candidate_0 = V_0\n",
    "V_0 = []\n",
    "print(V_0)\n",
    "print(\"candidate_0\", candidate_0)\n",
    "print(\"candidate_1\", candidate_1)     "
   ]
  },
  {
   "cell_type": "markdown",
   "metadata": {},
   "source": [
    "## 多步发现follower"
   ]
  },
  {
   "cell_type": "code",
   "execution_count": 78,
   "metadata": {},
   "outputs": [
    {
     "name": "stdout",
     "output_type": "stream",
     "text": [
      "0 temp:  [2, 4, 5, 9, 7, 6, 3, 8]\n",
      "1 temp:  [0, 1, 9, 7]\n"
     ]
    }
   ],
   "source": [
    "V_0 = []\n",
    "V = []\n",
    "for k in range(len(candidate_1)): \n",
    "    temp_0 = []\n",
    "    temp_1 = []\n",
    "    temp = []\n",
    "    # 计算第 k 个子网 \n",
    "    for i in range(len(candidate_1[k])):\n",
    "        temp_0 = candidate_0 # temp_0：第 k 个子网中的 follower 节点\n",
    "        temp_1 = candidate_1[k] # temp_1：第 k 个子网中的 leader 节点\n",
    "        temp = candidate_1[k]\n",
    "        # 第 k 个子网中的第 i 个 leader 节点\n",
    "       \n",
    "        for j in range(len(candidate_0)):\n",
    "            # 第 k 个子网中的受第 i 个 leader 节点影响的第 j 个 follower 节点\n",
    "            if G.has_edge(candidate_0[j], candidate_1[k][i]) and candidate_0[j] not in temp: \n",
    "                last = candidate_0[j]\n",
    "                temp.append(candidate_0[j])\n",
    "                judge = 1\n",
    "                # 需要找到最后一个follower节点\n",
    "                if last:\n",
    "                    for m in range(len(candidate_0)):\n",
    "                        for n in range(len(candidate_0)):\n",
    "                            if G.has_edge(candidate_0[m], last):\n",
    "                                temp.append(candidate_0[j])\n",
    "                                last = candidate_0[j]\n",
    "                    \n",
    "                    \n",
    "    \n",
    "    print(k, \"temp: \", temp)"
   ]
  },
  {
   "cell_type": "code",
   "execution_count": null,
   "metadata": {},
   "outputs": [],
   "source": []
  }
 ],
 "metadata": {
  "kernelspec": {
   "display_name": "Python 3",
   "language": "python",
   "name": "python3"
  },
  "language_info": {
   "codemirror_mode": {
    "name": "ipython",
    "version": 3
   },
   "file_extension": ".py",
   "mimetype": "text/x-python",
   "name": "python",
   "nbconvert_exporter": "python",
   "pygments_lexer": "ipython3",
   "version": "3.8.3"
  }
 },
 "nbformat": 4,
 "nbformat_minor": 4
}
